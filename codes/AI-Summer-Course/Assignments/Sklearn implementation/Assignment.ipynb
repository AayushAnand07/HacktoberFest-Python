{
 "cells": [
  {
   "cell_type": "markdown",
   "metadata": {},
   "source": [
    "# Linear and Logistic Regression using Scikit learn\n",
    "---\n",
    "\n",
    "Hope you all are well acquanited with the fundamentals of Linear and Logistic Regression now. For this week's assignment you'll be implementing both the models using Scikit learn.\n",
    "We start off by importing all the relevant libraries."
   ]
  },
  {
   "cell_type": "code",
   "execution_count": 1,
   "metadata": {},
   "outputs": [],
   "source": [
    "import pandas as pd\n",
    "import numpy as np\n",
    "import matplotlib.pyplot as plt\n",
    "%matplotlib inline"
   ]
  },
  {
   "cell_type": "code",
   "execution_count": 3,
   "metadata": {},
   "outputs": [
    {
     "data": {
      "text/html": [
       "<div>\n",
       "<style scoped>\n",
       "    .dataframe tbody tr th:only-of-type {\n",
       "        vertical-align: middle;\n",
       "    }\n",
       "\n",
       "    .dataframe tbody tr th {\n",
       "        vertical-align: top;\n",
       "    }\n",
       "\n",
       "    .dataframe thead th {\n",
       "        text-align: right;\n",
       "    }\n",
       "</style>\n",
       "<table border=\"1\" class=\"dataframe\">\n",
       "  <thead>\n",
       "    <tr style=\"text-align: right;\">\n",
       "      <th></th>\n",
       "      <th>population</th>\n",
       "      <th>profit</th>\n",
       "    </tr>\n",
       "  </thead>\n",
       "  <tbody>\n",
       "    <tr>\n",
       "      <th>0</th>\n",
       "      <td>6.1101</td>\n",
       "      <td>17.5920</td>\n",
       "    </tr>\n",
       "    <tr>\n",
       "      <th>1</th>\n",
       "      <td>5.5277</td>\n",
       "      <td>9.1302</td>\n",
       "    </tr>\n",
       "    <tr>\n",
       "      <th>2</th>\n",
       "      <td>8.5186</td>\n",
       "      <td>13.6620</td>\n",
       "    </tr>\n",
       "    <tr>\n",
       "      <th>3</th>\n",
       "      <td>7.0032</td>\n",
       "      <td>11.8540</td>\n",
       "    </tr>\n",
       "    <tr>\n",
       "      <th>4</th>\n",
       "      <td>5.8598</td>\n",
       "      <td>6.8233</td>\n",
       "    </tr>\n",
       "  </tbody>\n",
       "</table>\n",
       "</div>"
      ],
      "text/plain": [
       "   population   profit\n",
       "0      6.1101  17.5920\n",
       "1      5.5277   9.1302\n",
       "2      8.5186  13.6620\n",
       "3      7.0032  11.8540\n",
       "4      5.8598   6.8233"
      ]
     },
     "execution_count": 3,
     "metadata": {},
     "output_type": "execute_result"
    }
   ],
   "source": [
    "#import the dataset\n",
    "df = pd.read_csv(\"dataset1.txt\")\n",
    "df.head()"
   ]
  },
  {
   "cell_type": "markdown",
   "metadata": {},
   "source": [
    "The target variable/ output (y) can be calculated from a linear combination of the input variables (X). When there is a single input variable, the method is called as a simple linear regression. We are implementing simple linear regression to give you a good idea of how Linear Regression works. You can always practice Multivariate LR by importing some standard datasets from sklearn's datasets library\n",
    "\n",
    "So, our target variable is 'profit' and the input variable is 'population'."
   ]
  },
  {
   "cell_type": "code",
   "execution_count": 8,
   "metadata": {},
   "outputs": [
    {
     "name": "stdout",
     "output_type": "stream",
     "text": [
      "(97,)\n",
      "(97,)\n",
      "Total samples in our dataset is: 97\n"
     ]
    }
   ],
   "source": [
    "# Assign 'population' to the target independent variable X and 'pofit' to the dependent variable y.\n",
    "\n",
    "X = df.population\n",
    "y = df.profit\n",
    "\n",
    "print(X.shape)\n",
    "print(y.shape)\n",
    "\n",
    "#Calculate the total number of samples in our dataset\n",
    "print(\"Total samples in our dataset is: {}\".format(X.shape[0]))"
   ]
  },
  {
   "cell_type": "markdown",
   "metadata": {},
   "source": [
    "Before we begin to code our model, we first plot the data to get an idea of the relationship between the variables\n"
   ]
  },
  {
   "cell_type": "code",
   "execution_count": 10,
   "metadata": {},
   "outputs": [
    {
     "data": {
      "text/plain": [
       "<matplotlib.collections.PathCollection at 0x7fb1b5b45be0>"
      ]
     },
     "execution_count": 10,
     "metadata": {},
     "output_type": "execute_result"
    },
    {
     "data": {
      "image/png": "[encoded data removed]",
      "text/plain": [
       "<Figure size 432x288 with 1 Axes>"
      ]
     },
     "metadata": {
      "needs_background": "light"
     },
     "output_type": "display_data"
    }
   ],
   "source": [
    "#Plot a scatter plot between X and y\n",
    "\n",
    "plt.xlabel(\"Population of City (10,000s)\")\n",
    "plt.ylabel(\"Profit ($10,000)\")\n",
    "plt.title(\"Profit Vs Population\")\n",
    "plt.scatter(X, y)"
   ]
  },
  {
   "cell_type": "markdown",
   "metadata": {},
   "source": [
    "We split our model into a training and test set using scikit-learn's train_test_split() function.\n",
    "\n",
    "Splitting your dataset is essential for an unbiased evaluation of prediction performance."
   ]
  },
  {
   "cell_type": "code",
   "execution_count": 12,
   "metadata": {},
   "outputs": [],
   "source": [
    "from sklearn.model_selection import train_test_split\n",
    "#set test_size equal to 20 %\n",
    "#code here\n",
    "X_train, X_test, y_train, y_test = train_test_split(X, y, test_size=0.2)"
   ]
  },
  {
   "cell_type": "code",
   "execution_count": 19,
   "metadata": {},
   "outputs": [
    {
     "data": {
      "text/plain": [
       "array([[ 8.3829],\n",
       "       [ 5.4994],\n",
       "       [ 9.7687],\n",
       "       [10.136 ],\n",
       "       [ 5.1793],\n",
       "       [20.27  ],\n",
       "       [ 5.8014],\n",
       "       [18.959 ],\n",
       "       [ 7.9334],\n",
       "       [ 6.3261],\n",
       "       [ 9.4536],\n",
       "       [13.394 ],\n",
       "       [ 7.0708],\n",
       "       [ 6.3589],\n",
       "       [ 5.6407],\n",
       "       [ 7.8247],\n",
       "       [ 5.6397],\n",
       "       [ 8.4084],\n",
       "       [ 5.4901],\n",
       "       [ 7.0032],\n",
       "       [ 5.0702],\n",
       "       [ 5.0365],\n",
       "       [ 5.3054],\n",
       "       [10.274 ],\n",
       "       [ 6.2742],\n",
       "       [ 8.0959],\n",
       "       [ 5.0594],\n",
       "       [10.236 ],\n",
       "       [ 7.3345],\n",
       "       [ 5.4369],\n",
       "       [ 6.3654],\n",
       "       [10.957 ],\n",
       "       [ 6.0062],\n",
       "       [ 7.5402],\n",
       "       [ 5.7737],\n",
       "       [ 6.5159],\n",
       "       [ 5.8707],\n",
       "       [ 6.4296],\n",
       "       [ 8.5186],\n",
       "       [ 7.4764],\n",
       "       [14.908 ],\n",
       "       [ 5.2524],\n",
       "       [ 5.1301],\n",
       "       [ 8.5781],\n",
       "       [ 6.3557],\n",
       "       [ 5.7077],\n",
       "       [ 8.2951],\n",
       "       [ 9.1802],\n",
       "       [ 5.8598],\n",
       "       [20.341 ],\n",
       "       [ 6.3328],\n",
       "       [12.828 ],\n",
       "       [ 5.7292],\n",
       "       [ 5.3077],\n",
       "       [ 5.5649],\n",
       "       [11.7   ],\n",
       "       [ 5.7107],\n",
       "       [22.203 ],\n",
       "       [ 5.8918],\n",
       "       [ 7.2182],\n",
       "       [ 8.2111],\n",
       "       [ 5.1077],\n",
       "       [ 6.4862],\n",
       "       [14.164 ],\n",
       "       [ 7.4239],\n",
       "       [ 6.8825],\n",
       "       [ 8.2934],\n",
       "       [ 5.1884],\n",
       "       [ 7.0931],\n",
       "       [ 8.5172],\n",
       "       [ 5.0546],\n",
       "       [ 5.5204],\n",
       "       [ 5.734 ],\n",
       "       [ 6.5479],\n",
       "       [11.708 ],\n",
       "       [ 6.5894],\n",
       "       [ 5.5277]])"
      ]
     },
     "execution_count": 19,
     "metadata": {},
     "output_type": "execute_result"
    }
   ],
   "source": [
    "#Convert and reshape pandas dataset's columns into numpy arrays to perform the required calculations\n",
    "X_train = np.reshape(np.array(X_train), (-1,1))\n",
    "X_test = np.reshape(np.array(X_test), (-1,1))\n",
    "y_train = np.reshape(np.array(y_train), (-1,1))\n",
    "y_test = np.reshape(np.array(y_test), (-1,1))"
   ]
  },
  {
   "cell_type": "markdown",
   "metadata": {},
   "source": [
    "To give you a breif recap,\n",
    "\n",
    "We start with a hypothesis representation in form of a straight line\n",
    "![Hypothesis](https://miro.medium.com/max/321/0*E4LgcnWZEeLU-9MB.png)\n",
    "\n",
    "Then we select our cost function usually, *sum of squared errors (SSE)* in case of LR.\n",
    "![Cost](https://miro.medium.com/max/625/0*8dP9eDjZGwohxVLG.png)\n",
    "\n",
    "Then we perform gradient descent and keep updating our parameters after each iteration until the cost function reaches a global minima.\n",
    "![Gradient Descent](https://miro.medium.com/max/563/0*jTrM-AfW7Q7X04DN.png)\n",
    "\n",
    "\n",
    "With Scikit-Learn it is extremely straight forward to implement linear regression models, as all you really need to do is import the LinearRegression class, instantiate it, and call the fit() as it performs all the steps mentioned above itself."
   ]
  },
  {
   "cell_type": "code",
   "execution_count": 22,
   "metadata": {},
   "outputs": [
    {
     "data": {
      "text/plain": [
       "LinearRegression()"
      ]
     },
     "execution_count": 22,
     "metadata": {},
     "output_type": "execute_result"
    }
   ],
   "source": [
    "from sklearn.linear_model import LinearRegression\n",
    "#code here\n",
    "model = LinearRegression()\n",
    "model.fit(X_train, y_train)"
   ]
  },
  {
   "cell_type": "markdown",
   "metadata": {},
   "source": [
    "That's it! Your model is trained\n",
    "\n",
    "This test dataset is the unseen data set for your model which will help you have a better view of its ability to generalize. Make prediction on the test set using the trained model."
   ]
  },
  {
   "cell_type": "code",
   "execution_count": 25,
   "metadata": {},
   "outputs": [],
   "source": [
    "y_pred = model.predict(X_test)"
   ]
  },
  {
   "cell_type": "code",
   "execution_count": 27,
   "metadata": {},
   "outputs": [
    {
     "data": {
      "text/plain": [
       "<matplotlib.collections.PathCollection at 0x7fb1897063a0>"
      ]
     },
     "execution_count": 27,
     "metadata": {},
     "output_type": "execute_result"
    },
    {
     "data": {
      "image/png": "[encoded data removed]",
      "text/plain": [
       "<Figure size 432x288 with 1 Axes>"
      ]
     },
     "metadata": {
      "needs_background": "light"
     },
     "output_type": "display_data"
    }
   ],
   "source": [
    "#Plot the graph\n",
    "\n",
    "plt.plot(X_test,y_pred,color=\"r\")\n",
    "plt.xlabel(\"Population of City (10,000s)\")\n",
    "plt.ylabel(\"Profit ($10,000\")\n",
    "plt.title(\"Profit vs Population\")\n",
    "plt.scatter(X, y)"
   ]
  },
  {
   "cell_type": "markdown",
   "metadata": {},
   "source": [
    "In regression, the R2 coefficient of determination is a statistical measure of how well the regression predictions approximate the real data points\n",
    "\n",
    "It is defined as the is the ratio of sum of squares of the residual errors to the total sum of the errors subtracted from 1."
   ]
  },
  {
   "cell_type": "code",
   "execution_count": 28,
   "metadata": {},
   "outputs": [
    {
     "data": {
      "text/plain": [
       "0.6286647537570459"
      ]
     },
     "execution_count": 28,
     "metadata": {},
     "output_type": "execute_result"
    }
   ],
   "source": [
    "from sklearn.metrics import r2_score\n",
    "#code here\n",
    "r2_score(y_test, y_pred)"
   ]
  },
  {
   "cell_type": "markdown",
   "metadata": {},
   "source": [
    "Yaay! You just built your first ML model."
   ]
  },
  {
   "cell_type": "markdown",
   "metadata": {},
   "source": [
    "# Logistic Regression Binary Classification"
   ]
  },
  {
   "cell_type": "code",
   "execution_count": 29,
   "metadata": {},
   "outputs": [],
   "source": [
    "#Importing the dataset\n",
    "# The sklearn.datasets package offers some toy datasets to illustrate the behaviour of some algorithms and we will be using the breast cancer dataset\n",
    "from sklearn.datasets import load_breast_cancer\n",
    "from sklearn.model_selection import train_test_split\n",
    "from sklearn.preprocessing import MinMaxScaler"
   ]
  },
  {
   "cell_type": "markdown",
   "metadata": {},
   "source": [
    "Divide the data into \"attributes\" and \"labels\". Attributes are the independent variables while labels are dependent variables whose values are to be predicted."
   ]
  },
  {
   "cell_type": "code",
   "execution_count": 30,
   "metadata": {},
   "outputs": [],
   "source": [
    "X = load_breast_cancer()['data']\n",
    "y = load_breast_cancer()['target']"
   ]
  },
  {
   "cell_type": "code",
   "execution_count": 32,
   "metadata": {},
   "outputs": [
    {
     "data": {
      "image/png": "[encoded data removed]",
      "text/plain": [
       "<Figure size 432x288 with 1 Axes>"
      ]
     },
     "metadata": {
      "needs_background": "light"
     },
     "output_type": "display_data"
    },
    {
     "data": {
      "text/plain": [
       "<matplotlib.collections.PathCollection at 0x7fb18839e100>"
      ]
     },
     "execution_count": 32,
     "metadata": {},
     "output_type": "execute_result"
    },
    {
     "data": {
      "image/png": "[encoded data removed]",
      "text/plain": [
       "<Figure size 432x288 with 1 Axes>"
      ]
     },
     "metadata": {
      "needs_background": "light"
     },
     "output_type": "display_data"
    }
   ],
   "source": [
    "#Plot the data the visulasie the distribution\n",
    "plt.bar(['Malignant','Benign'],[sum(y), len(y)-sum(y)])\n",
    "plt.title('Class Distribution', fontsize = 15)\n",
    "plt.show()\n",
    "\n",
    "plt.scatter(X[:,0],y)"
   ]
  },
  {
   "cell_type": "markdown",
   "metadata": {},
   "source": [
    "A key difference in Logistic Regression is that the output value being modeled is a binary value (0 or 1) rather than a numeric value.\n",
    "\n",
    "This is done using a sigmoid function\n",
    "\n",
    "![Sigmoid](https://miro.medium.com/max/339/1*Gp5E23P5d2PY5D5kOo8ePw.png)\n",
    "\n"
   ]
  },
  {
   "cell_type": "markdown",
   "metadata": {},
   "source": [
    "\n",
    "We can not use that simple cost function here because it will not converge to global minima. To address this issue, we use the cross entropy cost function which is defined as\n",
    "\n",
    "![Cost](https://miro.medium.com/max/2836/1*_52kKSp8zWgVTNtnE2eYrg.png)"
   ]
  },
  {
   "cell_type": "markdown",
   "metadata": {},
   "source": [
    "\n",
    "\n",
    "\n",
    "\n",
    "When we calculate the partial derivates of the loss with respect to the parameters for gradient descent, we encounter an expression that is identical to what we used in Linear Regression.\n",
    "![Gradient](https://miro.medium.com/max/875/1*Ecea3jVIRxK4Mkrh_Nie4w.jpeg)\n",
    "\n",
    "\n",
    "\n",
    "\n"
   ]
  },
  {
   "cell_type": "code",
   "execution_count": 36,
   "metadata": {},
   "outputs": [],
   "source": [
    "#Scale your data so that it converges faster\n",
    "scaler = MinMaxScaler(feature_range=(-1, 1))\n",
    "X_scaled = scaler.fit_transform(X)\n",
    "\n",
    "#Split the data into train and test set with test size= 0.2\n",
    "X_train, X_test, y_train, y_test = train_test_split(X_scaled, y, test_size=0.2)\n",
    "#code here"
   ]
  },
  {
   "cell_type": "markdown",
   "metadata": {},
   "source": [
    "Now, we'll try implementing the same by calling scikit learn's LogisticRegression function"
   ]
  },
  {
   "cell_type": "code",
   "execution_count": 37,
   "metadata": {},
   "outputs": [
    {
     "data": {
      "text/plain": [
       "LogisticRegression()"
      ]
     },
     "execution_count": 37,
     "metadata": {},
     "output_type": "execute_result"
    }
   ],
   "source": [
    "from sklearn.linear_model import LogisticRegression\n",
    "#code here\n",
    "model = LogisticRegression()\n",
    "model.fit(X_train, y_train)"
   ]
  },
  {
   "cell_type": "code",
   "execution_count": 39,
   "metadata": {},
   "outputs": [
    {
     "data": {
      "text/plain": [
       "array([0, 1, 1, 1, 1, 0, 1, 1, 1, 1, 0, 1, 1, 0, 1, 1, 1, 1, 1, 1, 1, 0,\n",
       "       0, 1, 1, 0, 1, 0, 1, 0, 1, 1, 1, 1, 1, 0, 1, 1, 0, 1, 1, 1, 0, 1,\n",
       "       1, 1, 1, 0, 1, 0, 1, 1, 1, 0, 0, 1, 1, 1, 0, 1, 1, 1, 1, 1, 1, 0,\n",
       "       1, 1, 1, 1, 1, 1, 1, 1, 1, 0, 1, 1, 1, 1, 0, 1, 0, 0, 1, 0, 1, 1,\n",
       "       0, 1, 1, 1, 1, 1, 1, 1, 1, 0, 0, 1, 1, 1, 1, 0, 1, 1, 0, 1, 0, 1,\n",
       "       1, 1, 1, 1])"
      ]
     },
     "execution_count": 39,
     "metadata": {},
     "output_type": "execute_result"
    }
   ],
   "source": [
    "#Make prediction on the test set using the trained model.\n",
    "\n",
    "y_pred = model.predict(X_test)\n",
    "y_pred"
   ]
  },
  {
   "cell_type": "code",
   "execution_count": 42,
   "metadata": {},
   "outputs": [
    {
     "data": {
      "text/plain": [
       "0.9736842105263158"
      ]
     },
     "execution_count": 42,
     "metadata": {},
     "output_type": "execute_result"
    }
   ],
   "source": [
    "from sklearn.metrics import accuracy_score\n",
    "accuracy_score(y_test, y_pred)"
   ]
  },
  {
   "cell_type": "markdown",
   "metadata": {},
   "source": [
    "Yaay! You've successfuly created a classification model with a great accuracy. "
   ]
  }
 ],
 "metadata": {
  "kernelspec": {
   "display_name": "Python 3",
   "language": "python",
   "name": "python3"
  },
  "language_info": {
   "codemirror_mode": {
    "name": "ipython",
    "version": 3
   },
   "file_extension": ".py",
   "mimetype": "text/x-python",
   "name": "python",
   "nbconvert_exporter": "python",
   "pygments_lexer": "ipython3",
   "version": "3.8.5"
  }
 },
 "nbformat": 4,
 "nbformat_minor": 4
}
