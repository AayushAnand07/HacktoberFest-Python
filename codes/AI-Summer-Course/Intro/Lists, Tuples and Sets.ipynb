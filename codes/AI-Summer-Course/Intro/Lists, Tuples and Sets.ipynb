{
 "cells": [
  {
   "cell_type": "code",
   "execution_count": 2,
   "metadata": {},
   "outputs": [
    {
     "name": "stdout",
     "output_type": "stream",
     "text": [
      "Maths\n"
     ]
    }
   ],
   "source": [
    "courses = ['History', 'Maths', 'Physics', 'CompSci']\n",
    "print(courses[1])"
   ]
  },
  {
   "cell_type": "code",
   "execution_count": 3,
   "metadata": {},
   "outputs": [
    {
     "name": "stdout",
     "output_type": "stream",
     "text": [
      "CompSci\n"
     ]
    }
   ],
   "source": [
    "print(courses[-1])"
   ]
  },
  {
   "cell_type": "code",
   "execution_count": 4,
   "metadata": {},
   "outputs": [
    {
     "name": "stdout",
     "output_type": "stream",
     "text": [
      "['History', 'Maths']\n"
     ]
    }
   ],
   "source": [
    "print(courses[0:2])"
   ]
  },
  {
   "cell_type": "code",
   "execution_count": 5,
   "metadata": {},
   "outputs": [],
   "source": [
    "courses.append('Art')"
   ]
  },
  {
   "cell_type": "code",
   "execution_count": 7,
   "metadata": {},
   "outputs": [],
   "source": [
    "courses.insert(0, 'Chem')"
   ]
  },
  {
   "cell_type": "code",
   "execution_count": 8,
   "metadata": {},
   "outputs": [
    {
     "name": "stdout",
     "output_type": "stream",
     "text": [
      "['Chem', 'History', 'Maths', 'Physics', 'CompSci', 'Art']\n"
     ]
    }
   ],
   "source": [
    "courses_2 = ['Bio', 'ME']\n",
    "print(courses)"
   ]
  },
  {
   "cell_type": "code",
   "execution_count": 9,
   "metadata": {},
   "outputs": [],
   "source": [
    "courses.extend(courses_2)"
   ]
  },
  {
   "cell_type": "code",
   "execution_count": 10,
   "metadata": {},
   "outputs": [
    {
     "name": "stdout",
     "output_type": "stream",
     "text": [
      "['Chem', 'History', 'Maths', 'Physics', 'CompSci', 'Art', 'Bio', 'ME']\n"
     ]
    }
   ],
   "source": [
    "print(courses)"
   ]
  },
  {
   "cell_type": "code",
   "execution_count": 11,
   "metadata": {},
   "outputs": [
    {
     "name": "stdout",
     "output_type": "stream",
     "text": [
      "Chem\n",
      "History\n",
      "Maths\n",
      "Physics\n",
      "CompSci\n",
      "Art\n",
      "Bio\n",
      "ME\n"
     ]
    }
   ],
   "source": [
    "for item in courses:\n",
    "    print(item)"
   ]
  },
  {
   "cell_type": "code",
   "execution_count": 12,
   "metadata": {},
   "outputs": [
    {
     "name": "stdout",
     "output_type": "stream",
     "text": [
      "(0, 'Chem')\n",
      "(1, 'History')\n",
      "(2, 'Maths')\n",
      "(3, 'Physics')\n",
      "(4, 'CompSci')\n",
      "(5, 'Art')\n",
      "(6, 'Bio')\n",
      "(7, 'ME')\n"
     ]
    }
   ],
   "source": [
    "for course in enumerate(courses):\n",
    "    print(course)"
   ]
  },
  {
   "cell_type": "code",
   "execution_count": 17,
   "metadata": {},
   "outputs": [
    {
     "name": "stdout",
     "output_type": "stream",
     "text": [
      "Chem, History, Maths, Physics, CompSci, Art, Bio, ME\n"
     ]
    }
   ],
   "source": [
    "courses_str = ', '.join(courses)\n",
    "print(courses_str)"
   ]
  },
  {
   "cell_type": "code",
   "execution_count": 18,
   "metadata": {},
   "outputs": [
    {
     "name": "stdout",
     "output_type": "stream",
     "text": [
      "['Chem', 'History', 'Maths', 'Physics', 'CompSci', 'Art', 'Bio', 'ME']\n"
     ]
    }
   ],
   "source": [
    "new_list = course_str.split(', ')\n",
    "print(new_list)"
   ]
  },
  {
   "cell_type": "code",
   "execution_count": 14,
   "metadata": {
    "scrolled": true
   },
   "outputs": [
    {
     "name": "stdout",
     "output_type": "stream",
     "text": [
      "340181\n"
     ]
    }
   ],
   "source": [
    "s1 = '''CTACATTGGGGCGTCCTAATTGGACGATTTATCCCATCGAACAAGCAGTGCAACTACGGAGCGTGTTTCCAGAATTTAAGATCCAACCTCTTATAATGCGCCAGCTATTACCGCTTGATCATCTTAAGTGCTTGGGGAGAGACAAAGCCAAACGAGTTTTTGCTACAACTCGAGCCTCGGTGACGTCGCTGTACTGTCAGACTATATCGGAGCTAAAAGACAATACTTACCCATCCAATTTAGCTAGAAACTCTTTTTGTAAGATGGCAACATGGCCCTTGCGAAGAGTACCCCAATAGTCGACTACTGGCCAAAGATTGCCAGGTATCACTAATGCAACTAAGTCCCCCCAAGGGGTATCCTGCAGTCGTACCGATTAACTACAATAGGACACTAGCAGCAAAATGGTGTTTCGTGTCCTAAACATACTGGCAAGTTAATTCGGATGATTGCCGAGGAAGGAGTTATCTAGGCACTAGGTTACGGAGAATTGGTATTAACGGCTGAGCGGGTTCTAGTACATCTGCGCATCCGTAGGCTTGCTCGTGGTGTGGGCGTTGCTATTGTCGGTTATGATAGGTGACTCAGATACTCTAAAGATGTACGAGACGACAGACGTTAGCACGCGGGGTCAAAACGCTAAGCCGGGCTGTGCAATTACAATAAGGTCCGGCAGCCGGGCATCCCTGTAAAAGGAAATCATGGGCCCCCGATGAGTCTGATTTTCGTGGGCGAAGTCTTATCCGCGTATTTTGGGGCAGAGAATGACCTGATCGACAATTGTGTAACCTCGCACGCAGACATGGATCACGTCGTGTGTCATGCGTCGTGTGGTGCCGGTAGAAGTTTATGAACATATTTGGGCAGAAACCGTGCATGACCATTCGGTTGCTCAATCGCCAACACAATCACGAACACGCCCGGCTTGGCGCACGCCGCCACGTGCTCCAGAAAGGCCTCAAACAATTCAGTGTCCCAACGTGATGTAAGTGAAACCCCGTCGGGGTCCCATTTCTTTCGGGGTTAACTTGAAGACGCGTGCCCAGAGGCTTGTCGGACACCCTTTGGATTTGACTGCGCAGACTATCATTGGATACTTTAACCGACAGGGATCTAACAGGCCACGATTGTCATATGTATGTACTATTCTGTTTAAGAGTTGTCGATGCATTTAAGTATCGTCCTTCGTACAGGTTCGACAGTCTACATAGCCGGGTCCGAGCCGTCAAACTGCCCGGACGAAGATTTACAATCATGGCTAGGTAAGGACTTGTTGCTGTAGACAACGTGGATGAGATAGTGCTCTTAGGACTCGCGACAATCGAGTCTTGTATGGGCAGGTATGTAAGCCCGTTAAACATATCATCTAAATTGGGGTGTCAGCGTATGGTCTATAGGTAGTGCCCCTCCGCAACATTTGATCAGCGACCCAATGAACCGTAGGAGGCAGGGCGTTGGAGTATCCCTTATATGCCCCTAGCTATCATGAAGACCATTTGAGATGTTGCCTCTTCACTGCGTTTACACCACAACCCTACTGCAGGTAGCGACATGAGCTTATTACAAACATCCAAACATATGGTGGCGCGTCTAGTCGAATGAGCGTCCTAAATGTATCGTTTAAATGGAGTATCATGGTAGTTACGTCTGAATTAAGAGCACACCAAGGCTCATCAGTACATCTAGAAACTTAGAGTTTCCGCGGGCAGAGCATTTTTAACATCCTCCTACGGGACAAAAGCTTTTGCTCCTATTTGGCATATGGAGTGTAAAATGTGCGAAACATGGCTAGTGCCGCAAAGTCATCTAACGCGCTTAGCGACATGCACAGTCGTATTAAATGCCGGGTCTATGACTACGGCCAACTACACTCCGTAGCGTGACACATGCTACAACTAGCCTCGTTGCTAGTTCACTGTTGGACTGACCACCGTAAGCTATCCTCAGAATCATACGTATGCTTTTCACCGTAACCACACAAGAGACGTCCAGGCTAACACGCGAACTGACTATCGAAAGCAACTCCGCGCTGGATTTTGCACGAGT'''\n",
    "ref = 'ACAACACCG'\n",
    "l = len(ref)\n",
    "d = 5\n",
    "sum = 0\n",
    "\n",
    "for i in range(len(s1)-l):\n",
    "    sub = s1[i:i+l]\n",
    "    diff = 0\n",
    "    for j in range(len(sub)):\n",
    "        if(sub[j]!=ref[j]):\n",
    "            diff+=1\n",
    "            \n",
    "    if(diff<=d):\n",
    "        sum = sum + (i)\n",
    "        #print(i+1, \" \")\n",
    "        \n",
    "print(sum)"
   ]
  }
 ],
 "metadata": {
  "kernelspec": {
   "display_name": "Python 3",
   "language": "python",
   "name": "python3"
  },
  "language_info": {
   "codemirror_mode": {
    "name": "ipython",
    "version": 3
   },
   "file_extension": ".py",
   "mimetype": "text/x-python",
   "name": "python",
   "nbconvert_exporter": "python",
   "pygments_lexer": "ipython3",
   "version": "3.8.5"
  }
 },
 "nbformat": 4,
 "nbformat_minor": 4
}
